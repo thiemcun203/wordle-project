{
 "cells": [
  {
   "cell_type": "code",
   "execution_count": 1,
   "metadata": {},
   "outputs": [],
   "source": [
    "from collections import defaultdict\n",
    "import matplotlib.pyplot as plt\n",
    "import numpy as np\n",
    "import math"
   ]
  },
  {
   "cell_type": "code",
   "execution_count": 2,
   "metadata": {},
   "outputs": [
    {
     "name": "stdout",
     "output_type": "stream",
     "text": [
      "[(12.54, 3.7675), (7.95, 2.8958333333333335), (2.25, 2.0), (0.01, 1.0), (5.55, 2.7142857142857144), (1.95, 1.6666666666666667), (0.83, 1.5), (5.22, 2.3333333333333335), (2.18, 2.0), (0.33, 1.5), (4.21, 2.625), (1.72, 2.0), (0.29, 1.6666666666666667), (0.0, 1.0), (5.89, 2.6315789473684212), (2.95, 2.0), (6.98, 2.7083333333333335), (4.36, 2.0), (0.99, 1.2), (7.11, 2.8125), (3.51, 1.8888888888888888), (0.11, 1.0), (4.61, 2.0), (0.28, 1.0), (2.08, 1.8), (6.68, 2.25), (1.0, 1.2222222222222223), (1.56, 1.5), (5.15, 2.6666666666666665), (1.2, 1.0), (1.51, 2.0), (0.02, 1.3333333333333333), (3.58, 2.0), (0.06, 1.0), (1.98, 1.75), (2.09, 1.5), (6.26, 2.7142857142857144), (1.14, 2.0), (1.03, 2.0), (1.59, 1.3333333333333333), (0.81, 1.0), (2.55, 1.8), (2.67, 2.0), (0.34, 2.0), (1.08, 1.6666666666666667), (1.58, 2.0), (4.08, 2.0), (0.91, 1.3333333333333333), (3.69, 2.4), (1.41, 2.0), (0.77, 1.5), (3.57, 1.5), (3.18, 2.3333333333333335), (0.7, 2.0), (3.84, 2.5), (2.33, 2.25), (0.04, 1.3333333333333333), (0.78, 1.0), (0.95, 1.6), (1.88, 2.0), (0.05, 2.0), (1.5, 1.5), (0.92, 1.5), (0.74, 2.0), (2.29, 2.0), (0.87, 1.0), (0.69, 1.0), (1.31, 1.5), (0.55, 1.0), (0.9, 1.2857142857142858), (0.2, 1.0), (2.06, 1.0), (1.01, 1.3333333333333333), (1.76, 2.0), (1.53, 1.5), (2.26, 1.0), (5.16, 2.25), (0.03, 1.25), (0.41, 1.0), (0.68, 2.0), (0.73, 1.5), (2.62, 1.0), (1.18, 1.5), (1.52, 1.3333333333333333), (1.66, 1.0), (1.42, 1.0), (1.32, 1.5), (2.51, 1.8), (0.08, 1.0), (3.5, 2.3333333333333335), (1.07, 1.5), (0.1, 1.5), (3.76, 2.5), (1.06, 1.5), (2.76, 1.5), (4.59, 2.5), (1.12, 1.5), (3.41, 2.0), (2.35, 2.3333333333333335), (1.46, 2.0), (6.41, 2.75), (2.7, 2.0), (0.38, 2.0), (1.3, 2.0), (0.23, 2.0), (0.13, 1.5), (2.28, 2.0), (1.6, 2.0), (1.55, 2.0), (0.09, 1.3333333333333333), (0.88, 3.0), (0.07, 1.5), (7.58, 2.9473684210526314), (5.36, 2.75), (5.53, 2.5), (6.06, 3.0), (2.64, 2.0), (5.45, 3.0), (4.28, 2.4), (1.69, 1.0), (0.97, 1.0), (2.74, 2.0), (0.6, 1.0), (2.45, 1.3333333333333333), (0.96, 2.0), (3.61, 2.5), (5.67, 2.25), (1.26, 1.0), (5.77, 2.25), (1.67, 1.3333333333333333), (0.44, 1.0), (6.8, 2.0), (2.43, 1.0), (2.38, 3.0), (1.9, 2.0), (1.45, 1.5), (5.75, 3.7142857142857144), (2.66, 3.0), (2.36, 4.0), (2.04, 2.5), (1.65, 2.0), (1.1, 1.0), (2.8, 2.0), (3.14, 2.0), (3.54, 3.5), (1.43, 2.0), (0.98, 1.3333333333333333), (0.22, 2.0), (4.53, 2.0), (8.22, 2.962962962962963), (2.56, 1.8), (6.28, 3.0), (2.75, 2.0), (5.02, 3.0), (2.78, 2.0), (3.7, 2.0), (2.68, 2.0), (3.53, 1.5), (1.96, 2.0), (1.99, 1.25), (1.36, 1.6666666666666667), (5.64, 4.0), (3.63, 4.0), (2.49, 3.0), (2.21, 2.0), (1.87, 1.5), (2.22, 1.0), (3.94, 2.0), (1.73, 1.6666666666666667), (7.47, 3.2222222222222223), (4.23, 2.3333333333333335), (4.47, 2.25), (1.57, 1.3333333333333333), (8.65, 2.945945945945946), (4.25, 2.0), (1.29, 1.0), (7.03, 2.888888888888889), (2.48, 2.0), (0.42, 1.5), (3.93, 2.0), (2.1, 2.3333333333333335), (0.14, 1.0), (5.71, 2.5), (7.2, 3.2), (3.37, 2.0), (0.84, 1.0), (2.89, 2.0), (1.23, 1.0), (1.7, 1.5), (1.92, 1.0), (3.2, 2.0), (0.51, 1.0), (6.79, 2.5), (2.79, 1.0), (3.09, 2.0), (3.3, 3.0), (8.21, 2.5), (2.13, 2.0), (2.94, 1.5), (0.24, 1.0), (1.39, 1.0), (7.28, 3.7142857142857144), (5.58, 3.5), (1.82, 1.5), (3.13, 2.0), (7.09, 2.7857142857142856), (2.31, 2.0), (5.18, 2.3333333333333335), (0.94, 1.5), (5.01, 2.25), (1.47, 2.0), (0.3, 1.0), (4.37, 2.4), (2.47, 1.0), (0.37, 1.0), (6.22, 2.0), (0.12, 1.5), (0.66, 1.0), (2.2, 3.0), (0.56, 2.0), (1.84, 2.0), (1.94, 2.0), (2.32, 1.5), (4.04, 2.0), (3.02, 2.0), (3.72, 4.0), (2.91, 3.0), (2.17, 2.0), (2.11, 2.0), (1.77, 1.5), (1.34, 1.0), (5.3, 2.0), (3.97, 3.0), (2.73, 2.0), (1.09, 1.0), (1.61, 1.5), (6.83, 3.0), (2.82, 2.5), (0.25, 1.0), (1.13, 1.0), (4.74, 2.0), (1.02, 1.0), (3.87, 2.0), (0.65, 1.0), (1.93, 2.0), (4.95, 2.0), (4.72, 3.0), (1.74, 2.0), (2.0, 1.0), (3.44, 2.0), (5.19, 3.0), (1.04, 1.0), (3.68, 2.0), (1.68, 1.0), (1.97, 2.0), (2.84, 2.0), (3.06, 2.0), (3.74, 2.5), (3.86, 2.0), (2.97, 2.25), (2.02, 2.0), (1.44, 1.0), (3.88, 2.0), (3.01, 2.0), (0.52, 1.0), (5.6, 2.0), (2.87, 1.0), (1.19, 1.5), (1.78, 2.0), (1.28, 2.0), (0.75, 2.0), (1.38, 1.5), (1.79, 1.0), (3.28, 4.0), (2.42, 2.0), (2.15, 1.0), (3.99, 2.0), (4.1, 2.0), (1.11, 2.0), (0.19, 1.0), (1.35, 2.0), (4.71, 2.0), (5.51, 3.0), (2.3, 2.0), (2.58, 3.0), (3.45, 2.0), (2.65, 1.0), (6.69, 2.0), (4.17, 1.0), (0.46, 1.0), (1.15, 1.0), (3.29, 2.0)]\n"
     ]
    }
   ],
   "source": [
    "with open('data.txt','r') as f:\n",
    "    lg_data=list()\n",
    "    for line in f.readlines():\n",
    "        line = eval(line)\n",
    "        lg_data.append(line)\n",
    "final_data=list()\n",
    "data=defaultdict(list)\n",
    "for game in lg_data:\n",
    "    for i in range(len(game)):\n",
    "        data[game[i][1]].append(len(game)-i)\n",
    "for point in data.keys():\n",
    "    data[point] = sum(data[point])/len(data[point])\n",
    "\n",
    "for k,v in data.items():\n",
    "    final_data.append((k,v))\n",
    "print(final_data)"
   ]
  },
  {
   "cell_type": "code",
   "execution_count": 3,
   "metadata": {},
   "outputs": [
    {
     "data": {
      "image/png": "[encoded data removed]",
      "text/plain": [
       "<Figure size 640x480 with 1 Axes>"
      ]
     },
     "metadata": {},
     "output_type": "display_data"
    }
   ],
   "source": [
    "x=list(t[0] for t in final_data)\n",
    "y=list(t[1] for t in final_data)\n",
    "plt.scatter(x,y)\n",
    "plt.xlabel('The number of bits')\n",
    "plt.ylabel('The avg number of guesses to win')\n",
    "plt.show()"
   ]
  },
  {
   "cell_type": "code",
   "execution_count": 4,
   "metadata": {},
   "outputs": [],
   "source": [
    "x_train=np.array(x)\n",
    "y_train=np.array(y)"
   ]
  },
  {
   "cell_type": "code",
   "execution_count": 5,
   "metadata": {},
   "outputs": [],
   "source": [
    "#Function to calculate the cost\n",
    "def compute_cost(x, y, w, b):\n",
    "   \n",
    "    m = x.shape[0] \n",
    "    cost = 0\n",
    "    \n",
    "    for i in range(m):\n",
    "        f_wb = w * x[i] + b\n",
    "        cost = cost + (f_wb - y[i])**2\n",
    "    total_cost = 1 / (2 * m) * cost\n",
    "\n",
    "    return total_cost"
   ]
  },
  {
   "cell_type": "code",
   "execution_count": 6,
   "metadata": {},
   "outputs": [],
   "source": [
    "def compute_gradient(x, y, w, b): \n",
    "    \"\"\"\n",
    "    Computes the gradient for linear regression \n",
    "    Args:\n",
    "      x (ndarray (m,)): Data, m examples \n",
    "      y (ndarray (m,)): target values\n",
    "      w,b (scalar)    : model parameters  \n",
    "    Returns\n",
    "      dj_dw (scalar): The gradient of the cost w.r.t. the parameters w\n",
    "      dj_db (scalar): The gradient of the cost w.r.t. the parameter b     \n",
    "     \"\"\"\n",
    "    \n",
    "    # Number of training examples\n",
    "    m = x.shape[0]    \n",
    "    dj_dw = 0\n",
    "    dj_db = 0\n",
    "    \n",
    "    for i in range(m):  \n",
    "        f_wb = w * x[i] + b \n",
    "        dj_dw_i = (f_wb - y[i]) * x[i] \n",
    "        dj_db_i = f_wb - y[i] \n",
    "        dj_db += dj_db_i\n",
    "        dj_dw += dj_dw_i \n",
    "    dj_dw = dj_dw / m \n",
    "    dj_db = dj_db / m \n",
    "        \n",
    "    return dj_dw, dj_db"
   ]
  },
  {
   "cell_type": "code",
   "execution_count": 7,
   "metadata": {},
   "outputs": [],
   "source": [
    "def gradient_descent(x, y, w_in, b_in, alpha, num_iters, cost_function, gradient_function): \n",
    "    \"\"\"\n",
    "    Performs gradient descent to fit w,b. Updates w,b by taking \n",
    "    num_iters gradient steps with learning rate alpha\n",
    "    \n",
    "    Args:\n",
    "      x (ndarray (m,))  : Data, m examples \n",
    "      y (ndarray (m,))  : target values\n",
    "      w_in,b_in (scalar): initial values of model parameters  \n",
    "      alpha (float):     Learning rate\n",
    "      num_iters (int):   number of iterations to run gradient descent\n",
    "      cost_function:     function to call to produce cost\n",
    "      gradient_function: function to call to produce gradient\n",
    "      \n",
    "    Returns:\n",
    "      w (scalar): Updated value of parameter after running gradient descent\n",
    "      b (scalar): Updated value of parameter after running gradient descent\n",
    "      J_history (List): History of cost values\n",
    "      p_history (list): History of parameters [w,b] \n",
    "      \"\"\"\n",
    "    \n",
    "    # An array to store cost J and w's at each iteration primarily for graphing later\n",
    "    J_history = []\n",
    "    p_history = []\n",
    "    b = b_in\n",
    "    w = w_in\n",
    "    \n",
    "    for i in range(num_iters):\n",
    "        # Calculate the gradient and update the parameters using gradient_function\n",
    "        dj_dw, dj_db = compute_gradient(x, y, w , b)     \n",
    "\n",
    "        # Update Parameters using equation (3) above\n",
    "        b = b - alpha * dj_db                            \n",
    "        w = w - alpha * dj_dw                            \n",
    "\n",
    "        # Save cost J at each iteration\n",
    "        if i<100000:      # prevent resource exhaustion \n",
    "            J_history.append(compute_cost(x, y, w , b))\n",
    "            p_history.append([w,b])\n",
    "        # Print cost every at intervals 10 times or as many iterations if < 10\n",
    "        if i% math.ceil(num_iters/10) == 0:\n",
    "            print(f\"Iteration {i:4}: Cost {J_history[-1]:0.2e} \",\n",
    "                  f\"dj_dw: {dj_dw: 0.3e}, dj_db: {dj_db: 0.3e}  \",\n",
    "                  f\"w: {w: 0.3e}, b:{b: 0.5e}\")\n",
    " \n",
    "    return w, b, J_history, p_history #return w and J,w history for graphing"
   ]
  },
  {
   "cell_type": "code",
   "execution_count": 8,
   "metadata": {},
   "outputs": [
    {
     "name": "stdout",
     "output_type": "stream",
     "text": [
      "Iteration    0: Cost 1.67e+00  dj_dw: -5.995e+00, dj_db: -1.898e+00   w:  5.995e-02, b: 1.89760e-02\n",
      "Iteration 1000: Cost 1.29e-01  dj_dw:  3.003e-03, dj_db: -1.223e-02   w:  2.420e-01, b: 1.24344e+00\n",
      "Iteration 2000: Cost 1.29e-01  dj_dw:  9.151e-05, dj_db: -3.727e-04   w:  2.336e-01, b: 1.27735e+00\n",
      "Iteration 3000: Cost 1.29e-01  dj_dw:  2.789e-06, dj_db: -1.136e-05   w:  2.334e-01, b: 1.27838e+00\n",
      "Iteration 4000: Cost 1.29e-01  dj_dw:  8.498e-08, dj_db: -3.461e-07   w:  2.334e-01, b: 1.27841e+00\n",
      "Iteration 5000: Cost 1.29e-01  dj_dw:  2.589e-09, dj_db: -1.055e-08   w:  2.334e-01, b: 1.27842e+00\n",
      "Iteration 6000: Cost 1.29e-01  dj_dw:  7.891e-11, dj_db: -3.213e-10   w:  2.334e-01, b: 1.27842e+00\n",
      "Iteration 7000: Cost 1.29e-01  dj_dw:  2.405e-12, dj_db: -9.792e-12   w:  2.334e-01, b: 1.27842e+00\n",
      "Iteration 8000: Cost 1.29e-01  dj_dw:  7.423e-14, dj_db: -2.982e-13   w:  2.334e-01, b: 1.27842e+00\n",
      "Iteration 9000: Cost 1.29e-01  dj_dw:  1.325e-15, dj_db: -1.107e-14   w:  2.334e-01, b: 1.27842e+00\n",
      "(w,b) found by gradient descent: (  0.2334,  1.2784)\n"
     ]
    }
   ],
   "source": [
    "# initialize parameters\n",
    "w_init = 0\n",
    "b_init = 0\n",
    "# some gradient descent settings\n",
    "iterations = 10000\n",
    "tmp_alpha = 1.0e-2\n",
    "# run gradient descent\n",
    "w_final, b_final, J_hist, p_hist = gradient_descent(x_train ,y_train, w_init, b_init, tmp_alpha, \n",
    "                                                    iterations, compute_cost, compute_gradient)\n",
    "print(f\"(w,b) found by gradient descent: ({w_final:8.4f},{b_final:8.4f})\")"
   ]
  },
  {
   "cell_type": "code",
   "execution_count": 39,
   "metadata": {},
   "outputs": [],
   "source": [
    "def function_f(x):\n",
    "    return w_final*x + b_final"
   ]
  }
 ],
 "metadata": {
  "kernelspec": {
   "display_name": "Python 3 (ipykernel)",
   "language": "python",
   "name": "python3"
  },
  "language_info": {
   "codemirror_mode": {
    "name": "ipython",
    "version": 3
   },
   "file_extension": ".py",
   "mimetype": "text/x-python",
   "name": "python",
   "nbconvert_exporter": "python",
   "pygments_lexer": "ipython3",
   "version": "3.10.4"
  },
  "vscode": {
   "interpreter": {
    "hash": "a42ccb73e7d9bfdf27e036f1d2b8b681e55fc0743cc5586bc2474d4a60f4b886"
   }
  }
 },
 "nbformat": 4,
 "nbformat_minor": 2
}
