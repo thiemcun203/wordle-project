{
 "cells": [
  {
   "attachments": {},
   "cell_type": "markdown",
   "metadata": {},
   "source": [
    "This version use entropy/information of each word in allowed guesses to rank and choose which will be guess in next step <br />\n",
    "Entropy shows the expected information given by each word, is used to reduce the uncertainty of possible answer then easily minimum the score (number of tries) which is less than 6 <br />\n",
    "Note: Guesses could be chosen from reduced possible answers list(hard mode) or allowed guesses list, it depend on purpose: choose answer or get information ( green,yellow,..)\n"
   ]
  },
  {
   "attachments": {},
   "cell_type": "markdown",
   "metadata": {},
   "source": [
    "#### Algorithm\n",
    "list=allowed_lst <br />\n",
    "while feedback != all 2's <br />\n",
    "choose Max entropy from list<br />\n",
    "list= feedback + guess <br />\n",
    "\n",
    "entropy= E(I)=sum(p.I)=sum(p.log2(1/p)) <br />\n",
    "Compute p of each pattern which this word may have <br />\n",
    "p=pattern made by remain possible answers match with guess / list <br />\n",
    "\n",
    "save best choice at each guess with each pattern <br />\n",
    "\n"
   ]
  },
  {
   "cell_type": "code",
   "execution_count": 14,
   "metadata": {},
   "outputs": [],
   "source": [
    "with open('allowed_guesses.txt','r') as file:\n",
    "    allowed_guesses=[]\n",
    "    for i in file:\n",
    "        allowed_guesses.append(i[:5])\n",
    "with open(\"real_possible_answers.txt\",\"r\") as file:\n",
    "        real_possible_answers=[]\n",
    "        for i in file:\n",
    "            real_possible_answers.append(i[:5])\n",
    "import random\n",
    "import time\n",
    "from math import *"
   ]
  },
  {
   "cell_type": "code",
   "execution_count": 15,
   "metadata": {},
   "outputs": [
    {
     "data": {
      "text/plain": [
       "[0, 1, 2, 1, 0]"
      ]
     },
     "execution_count": 15,
     "metadata": {},
     "output_type": "execute_result"
    }
   ],
   "source": [
    "def get_feedback(guess:str,answer:str) -> list: \n",
    "    \"\"\"\n",
    "    get_feeback\n",
    "    ----------\n",
    "    guess: Five-letter guess.\n",
    "    answer: Five-letter correct answer.\n",
    "    Returns: Feedback contains 05 elements, which can be 0, 1, or 2, denoting a feedback pattern\n",
    "    \"\"\"\n",
    "    # convert string to list\n",
    "    answer = list(answer)\n",
    "    guess = list(guess)\n",
    "    \n",
    "    #initialize\n",
    "    feedback = ['']*5\n",
    "    \n",
    "    # isolate correctly placed letters\n",
    "    for i in range(5):\n",
    "        if guess[i] == answer[i]:\n",
    "            feedback[i] = 2\n",
    "            answer[i] = ''\n",
    "            guess[i] = ''\n",
    "\n",
    "    for i in range(5):\n",
    "        if guess[i] == '': continue\n",
    "        try:\n",
    "            index=answer.index(guess[i])\n",
    "            feedback[i] = 1\n",
    "            answer[index] = ''\n",
    "            guess[i] = ''\n",
    "        except:\n",
    "            feedback[i]=0\n",
    "    return feedback\n",
    "\n",
    "get_feedback('speed','crepe')"
   ]
  },
  {
   "cell_type": "code",
   "execution_count": 16,
   "metadata": {},
   "outputs": [
    {
     "data": {
      "text/plain": [
       "74"
      ]
     },
     "execution_count": 16,
     "metadata": {},
     "output_type": "execute_result"
    }
   ],
   "source": [
    "def reduce_list(guess:str,feedback:list,possible_answers:list) ->list:\n",
    "    '''This function return the reduced allowed word list - possible answers list which have real answer\n",
    "    \n",
    "    guess: the word we guessed in this step\n",
    "    feedback: the pattern given by game\n",
    "    word_list: allowed list in the first step and the reduced list in the next steps\n",
    "    '''\n",
    "    return [word for word in possible_answers if get_feedback(guess,word)==feedback]\n",
    "len(reduce_list('slate',[1,0,1,2,0],allowed_guesses))\n",
    "\n"
   ]
  },
  {
   "cell_type": "code",
   "execution_count": 17,
   "metadata": {},
   "outputs": [
    {
     "data": {
      "text/plain": [
       "137"
      ]
     },
     "execution_count": 17,
     "metadata": {},
     "output_type": "execute_result"
    }
   ],
   "source": [
    "def convert_ternary(feedback):\n",
    "    \"\"\"\n",
    "    Parameters\n",
    "    ----------\n",
    "    Feedback: Contains 05 elements, which can be 0, 1, or 2, denoting a feedback pattern.\n",
    "    Returns\n",
    "    -------\n",
    "    Number: Integer base 10 representation of pattern.\n",
    "    \"\"\"\n",
    "    return sum([feedback[i]*3**(4-i) for i in range(5)])\n",
    "convert_ternary([1,2,0,0,2])"
   ]
  },
  {
   "cell_type": "code",
   "execution_count": 18,
   "metadata": {},
   "outputs": [],
   "source": [
    "def entropy(guess:str, possible_answers:list):\n",
    "    '''Function compute the entropy of each word which could be chosen in hard mode \\n\n",
    "    Return value of entropy(bits), dictionary has key= pattern and value= reduced possible answers list \\n  \n",
    "    Detail: It computes expected value of probability distribution of possible patterns, \\n \n",
    "    based on possible answer(reduced list) or allowed list at initial \\n\n",
    "    pattern=guess + word in possible answers \\n\n",
    "    p= number of specific pattern / total patterns of word_list'''\n",
    "    Entropy=0\n",
    "    total = len(possible_answers) \n",
    "    PD_patterns = {} #probability distribution of patterns\n",
    "    for word in possible_answers: \n",
    "        feedback = get_feedback(guess,word)\n",
    "        fb=convert_ternary(feedback)\n",
    "        # PD_patterns[fb] = PD_patterns.get(fb,[]) +[word] \n",
    "        PD_patterns[fb]=PD_patterns.get(fb,0)+1/total\n",
    "    for prob in PD_patterns.values():\n",
    "        # Numberofpattern=len(lst)\n",
    "        # prob=Numberofpattern/total\n",
    "        # prob=lst\n",
    "        Entropy+=-(prob)*(log(prob)/log(2))\n",
    "    # print(PD_patterns)\n",
    "    return Entropy\n",
    "# entropy('tares',allowed_guesses)\n"
   ]
  },
  {
   "cell_type": "code",
   "execution_count": 19,
   "metadata": {},
   "outputs": [],
   "source": [
    "def entropy_dict(possible_answers):\n",
    "    '''Function compute entropy of each word in list\n",
    "    Return the rank of possible answer (result of entropy function) based value of entropy\n",
    "    It may take less then 10 mins to compute for the first list - first guess'''\n",
    "    ranker=[]\n",
    "    for guess in possible_answers:\n",
    "        ranker.append((guess,entropy(guess,possible_answers)))\n",
    "    ranker.sort(key = lambda t: t[1], reverse = True)\n",
    "    return ranker\n",
    "    # pair=(possible_answers[0],entropy(possible_answers[0],possible_answers))\n",
    "    # ranker = [pair]\n",
    "    # for guess in possible_answers:\n",
    "    #     new_pair=(guess,entropy(guess,possible_answers))\n",
    "    #     change=0\n",
    "    #     for i,pair in enumerate(ranker):\n",
    "    #         if new_pair[1][0]>=pair[1][0]:\n",
    "    #             ranker=ranker[:i]+[new_pair]+ranker[i:]\n",
    "    #             change=1\n",
    "    #             break\n",
    "    #     if change==0:\n",
    "    #         ranker+=[new_pair]\n",
    "    # return ranker\n",
    "# print([(word,entropy(word,allowed_guesses[:100])) for word in allowed_guesses[:100]])\n",
    "# print(allowed_guesses[:100])\n",
    "#1m21.7\n",
    "#1m20.6s my own\n",
    "# 11.38.1s all words\n",
    "# length=len(allowed_guesses)//3\n",
    "# def en(list):\n",
    "#     a=entropy_dict(list[:length])\n",
    "#     b=entropy_dict(list[length:length*2])\n",
    "#     c=entropy_dict(list[length*2:])\n",
    "#     return a+b+c\n",
    "# print(a)\n",
    "# entropy_dict(allowed_guesses[4000:8000])\n",
    "# # print(b)\n",
    "# c=entropy_dict(allowed_guesses[8000:])\n",
    "# print(c)\n",
    "# 2m44s\n",
    "#2m43.9s done\n",
    "# def entropy_dict(possible_answers): #8m11.6s\n",
    "#     a=entropy_subdict(allowed_guesses[:4000],allowed_guesses)\n",
    "#     b=entropy_subdict(allowed_guesses[4000:8000],allowed_guesses)\n",
    "#     c=entropy_subdict(allowed_guesses[8000:],allowed_guesses)\n",
    "#     return a+b+c\n",
    "# ranker=entropy_dict(allowed_guesses[:3])\n",
    "# ranker.sort(key = lambda t: t[1][0], reverse = True)\n",
    "# print(ranker)\n"
   ]
  },
  {
   "cell_type": "code",
   "execution_count": null,
   "metadata": {},
   "outputs": [
    {
     "ename": "",
     "evalue": "",
     "output_type": "error",
     "traceback": [
      "\u001b[1;31mFailed to start the Kernel. \n",
      "\u001b[1;31mActivating extension 'ms-python.python' failed: command 'python.viewOutput' already exists. \n",
      "\u001b[1;31mView Jupyter <a href='command:jupyter.viewOutput'>log</a> for further details."
     ]
    }
   ],
   "source": [
    "#saving first ranker of entropy\n",
    "import json\n",
    "with open('firstguesses_hardmode.json','w') as f:\n",
    "    json.dump(entropy_dict(allowed_guesses),f)\n",
    "with open('firstguesses_hardmode.json','r') as f:\n",
    "    file=json.load(f)\n",
    "print(file[0])\n",
    "    "
   ]
  },
  {
   "attachments": {},
   "cell_type": "markdown",
   "metadata": {},
   "source": [
    "[('tares', 6.195594730245377),\n",
    " ('lares', 6.151313589324651),\n",
    " ('rales', 6.115942447723608),\n",
    " ('rates', 6.097615309189668),\n",
    " ('teras', 6.078258349905183),\n",
    " ('nares', 6.068444540347897),\n",
    " ('soare', 6.062302776061357),\n",
    " ('tales', 6.0563053370969895),\n",
    " ('reais', 6.051229434211681),\n",
    " ('tears', 6.033781875729947),\n",
    " ('arles', 6.031334630198202),\n",
    " ('tores', 6.019304195305773),\n",
    " ('salet', 6.017847926120458),\n",
    " ('aeros', 6.0140608641637145),\n",
    " ('dares', 6.011187647555291),\n",
    " ('reals', 6.000797839298542),\n",
    " ('saner', 6.000576805791645),\n",
    " ('lears', 5.990079707202211),\n",
    " ('lores', 5.977642150779597),\n",
    " ('serai', 5.974867726286669),\n",
    " ('lanes', 5.972511722164216),\n",
    " ('laers', 5.9702900415510864),\n",
    " ('pares', 5.968213362998895),\n",
    " ('cares', 5.96714476106444),\n",
    " ('tires', 5.964383595082227),\n",
    "...\n",
    " ('morts', 5.392590605517464),\n",
    " ('leres', 5.392100150679694),\n",
    " ('peart', 5.392010978047047),\n",
    " ('lunas', 5.391224654535519),\n",
    " ...]"
   ]
  },
  {
   "attachments": {},
   "cell_type": "markdown",
   "metadata": {},
   "source": [
    "Because winrate is not 100% so Buidling tree is not used, instead by saving first list (takes too long time) and computing reduced list,entropy simultaneously (too long time). </br>\n",
    "if 100%, save all best guess of each (pattern + previous guess)"
   ]
  },
  {
   "cell_type": "code",
   "execution_count": 20,
   "metadata": {},
   "outputs": [],
   "source": [
    "def solution(answer,input=False):\n",
    "    '''This function return the number of step in this play\\n\n",
    "    answer: The secret word of the game\n",
    "    input : True is feedback inputted from terminal and vice versa\n",
    "    '''\n",
    "    k=0\n",
    "    guess='tares'\n",
    "    word_list=allowed_guesses\n",
    "    while True:\n",
    "        k+=1\n",
    "        # print(guess)\n",
    "        if input:\n",
    "            feedback=[int(i) for i in str(input())]\n",
    "        else:\n",
    "            feedback=get_feedback(guess,answer)\n",
    "        if feedback==[2]*5:\n",
    "            break\n",
    "        word_list=reduce_list(guess,feedback,word_list)\n",
    "        guess=entropy_dict(word_list)[0][0]\n",
    "    return k"
   ]
  },
  {
   "cell_type": "code",
   "execution_count": 21,
   "metadata": {},
   "outputs": [
    {
     "data": {
      "image/png": "[encoded data removed]",
      "text/plain": [
       "<Figure size 640x480 with 1 Axes>"
      ]
     },
     "metadata": {},
     "output_type": "display_data"
    },
    {
     "data": {
      "text/plain": [
       "(95.92897358163707, 4.2330012992637505)"
      ]
     },
     "execution_count": 21,
     "metadata": {},
     "output_type": "execute_result"
    }
   ],
   "source": [
    "def TestModel(solution,test_list:list,RANDOM=False) -> tuple:\n",
    "    '''\n",
    "    Parameter\n",
    "    ----------\n",
    "    solution: The function return the number of step to guess a specific answer \\n\n",
    "    test_list: The list of answers for testing\n",
    "    RANDOM: False, answer is chosen randomly and True, answer is chosen sequentially from the test_list\n",
    "    ----------\n",
    "    Return: The bar chart with x(number of guesses needed) and y (number of plays having x guesses) \\n\n",
    "                  The tupple of winrate and average score'''\n",
    "    import random\n",
    "    import time\n",
    "    t1=time.time()\n",
    "    #Compute some vital factor: number of plays having x guesses, win rate, average score of 2,3k plays   \n",
    "    xMax=20 # may be posituve infinity number\n",
    "    yMax=0\n",
    "    lst=[0]*xMax\n",
    "    N=len(test_list)# list contains number of plays having x guesses\n",
    "    for word in test_list:\n",
    "        if not RANDOM:\n",
    "            answer=word\n",
    "        elif RANDOM:\n",
    "            answer=random.choice(test_list)\n",
    "        NumberOfGuessesNeeded=solution(answer) \n",
    "        lst[NumberOfGuessesNeeded]=lst[NumberOfGuessesNeeded]+1\n",
    "    winrate=sum(lst[1:7])/N*100\n",
    "    average=sum([i*lst[i] for i in range(1,xMax)]) / N\n",
    "\n",
    "    #VISUALIZATION\n",
    "    import matplotlib.pyplot as plt\n",
    "    for i in range(1,xMax):\n",
    "        if lst[i] >=yMax: # because yMax always in (1,6)\n",
    "            yMax=lst[i]\n",
    "        if lst[i]==0 and i>6:\n",
    "            xMax=i\n",
    "            break\n",
    "    yMax=(yMax//100+2)*100\n",
    "    x=[str(i) for i in range(1,xMax)]\n",
    "    y=[i for i in lst[1:xMax]]\n",
    "    plt.ylim(0,yMax)\n",
    "    plt.grid(axis='y',linestyle='--')\n",
    "    plt.xlabel('Number of guesses needed')\n",
    "    plt.ylabel('Number of plays having x guesses')\n",
    "    plt.title('TEST PERFORMANCE')\n",
    "    plt.bar(x,y, fc=\"#CCD6A6\", ec=\"black\")\n",
    "    for i in range(len(x)):\n",
    "        plt.text(i, y[i], y[i], ha=\"center\", va=\"bottom\")\n",
    "    t2=time.time()\n",
    "    time=t2-t1\n",
    "    plt.text(xMax,yMax/2, f'Win Rate: {winrate:.3f}%\\nAverage Score: {average:.3f}\\nTime: {time:.3f}s', fontsize = 20,\n",
    "\t\tbbox = dict(facecolor = '#CCD6A6', alpha = 0.7))\n",
    "    plt.show()\n",
    "    return winrate,average\n",
    "\n",
    "TestModel(solution,real_possible_answers)\n",
    "        \n"
   ]
  }
 ],
 "metadata": {
  "kernelspec": {
   "display_name": "Python 3",
   "language": "python",
   "name": "python3"
  },
  "language_info": {
   "codemirror_mode": {
    "name": "ipython",
    "version": 3
   },
   "file_extension": ".py",
   "mimetype": "text/x-python",
   "name": "python",
   "nbconvert_exporter": "python",
   "pygments_lexer": "ipython3",
   "version": "3.10.4"
  },
  "orig_nbformat": 4,
  "vscode": {
   "interpreter": {
    "hash": "aee8b7b246df8f9039afb4144a1f6fd8d2ca17a180786b69acc140d282b71a49"
   }
  }
 },
 "nbformat": 4,
 "nbformat_minor": 2
}
