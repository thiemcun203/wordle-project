{
 "cells": [
  {
   "attachments": {},
   "cell_type": "markdown",
   "metadata": {},
   "source": [
    "This version break the rule by using real_possible_answers like the list of possible answers from the first step. Unlike normal hard mode, guess is chosen from allowed guess list and all word in this list could be possible answers, this case use word from all guess list but all word in real_possible_answers list will be included in final answer"
   ]
  },
  {
   "cell_type": "code",
   "execution_count": 3,
   "metadata": {},
   "outputs": [],
   "source": [
    "import json\n",
    "from math import *\n",
    "with open('allowed_guesses.txt','r') as file:\n",
    "# with open(\"real_possible_answers.txt\",\"r\") as file:\n",
    "    allowed_guesses=[]\n",
    "    for i in file:\n",
    "        allowed_guesses.append(i[:5])\n",
    "with open(\"real_possible_answers.txt\",\"r\") as file:\n",
    "        real_possible_answers=[]\n",
    "        for i in file:\n",
    "            real_possible_answers.append(i[:5])\n"
   ]
  },
  {
   "cell_type": "code",
   "execution_count": 4,
   "metadata": {},
   "outputs": [
    {
     "data": {
      "text/plain": [
       "[0, 1, 2, 1, 0]"
      ]
     },
     "execution_count": 4,
     "metadata": {},
     "output_type": "execute_result"
    }
   ],
   "source": [
    "def get_feedback(guess:str,answer:str) -> list: \n",
    "    \"\"\"\n",
    "    get_feeback\n",
    "    ----------\n",
    "    guess: Five-letter guess.\n",
    "    answer: Five-letter correct answer.\n",
    "    Returns: Feedback contains 05 elements, which can be 0, 1, or 2, denoting a feedback pattern\n",
    "    \"\"\"\n",
    "    # convert string to list\n",
    "    answer = list(answer)\n",
    "    guess = list(guess)\n",
    "    \n",
    "    #initialize\n",
    "    feedback = ['']*5\n",
    "    \n",
    "    # isolate correctly placed letters\n",
    "    for i in range(5):\n",
    "        if guess[i] == answer[i]:\n",
    "            feedback[i] = 2\n",
    "            answer[i] = ''\n",
    "            guess[i] = ''\n",
    "\n",
    "    for i in range(5):\n",
    "        if guess[i] == '': continue\n",
    "        try:\n",
    "            index=answer.index(guess[i])\n",
    "            feedback[i] = 1\n",
    "            answer[index] = ''\n",
    "            guess[i] = ''\n",
    "        except:\n",
    "            feedback[i]=0\n",
    "    return feedback\n",
    "\n",
    "get_feedback('speed','crepe')"
   ]
  },
  {
   "cell_type": "code",
   "execution_count": 5,
   "metadata": {},
   "outputs": [
    {
     "data": {
      "text/plain": [
       "74"
      ]
     },
     "execution_count": 5,
     "metadata": {},
     "output_type": "execute_result"
    }
   ],
   "source": [
    "def reduce_list(guess:str,feedback:list,possible_answers:list) ->list:\n",
    "    '''This function return the reduced allowed word list - possible answers list which have real answer\n",
    "    \n",
    "    guess: the word we guessed in this step\n",
    "    feedback: the pattern given by game\n",
    "    word_list: allowed list in the first step and the reduced list in the next steps\n",
    "    '''\n",
    "    return [word for word in possible_answers if get_feedback(guess,word)==feedback]\n",
    "len(reduce_list('slate',[1,0,1,2,0],allowed_guesses))\n",
    "\n"
   ]
  },
  {
   "cell_type": "code",
   "execution_count": 6,
   "metadata": {},
   "outputs": [
    {
     "data": {
      "text/plain": [
       "137"
      ]
     },
     "execution_count": 6,
     "metadata": {},
     "output_type": "execute_result"
    }
   ],
   "source": [
    "def convert_ternary(feedback):\n",
    "    \"\"\"\n",
    "    Parameters\n",
    "    ----------\n",
    "    Feedback: Contains 05 elements, which can be 0, 1, or 2, denoting a feedback pattern.\n",
    "    Returns\n",
    "    -------\n",
    "    Number: Integer base 10 representation of pattern.\n",
    "    \"\"\"\n",
    "    return sum([feedback[i]*3**(4-i) for i in range(5)])\n",
    "convert_ternary([1,2,0,0,2])"
   ]
  },
  {
   "cell_type": "code",
   "execution_count": 29,
   "metadata": {},
   "outputs": [
    {
     "data": {
      "text/plain": [
       "5.741011320165296"
      ]
     },
     "execution_count": 29,
     "metadata": {},
     "output_type": "execute_result"
    }
   ],
   "source": [
    "def entropy(guess:str, possible_answers:list):\n",
    "    '''Function compute the entropy of each word which could be chosen in hard mode \\n\n",
    "    Return value of entropy(bits), dictionary has key= pattern and value= reduced possible answers list \\n  \n",
    "    Detail: It computes expected value of probability distribution of possible patterns, \\n \n",
    "    based on possible answer(reduced list) or allowed list at initial \\n\n",
    "    pattern=guess + word in possible answers \\n\n",
    "    p= number of specific pattern / total patterns of word_list'''\n",
    "    Entropy=0\n",
    "    total = len(possible_answers) \n",
    "    PD_patterns = {} #probability distribution of patterns\n",
    "    for word in possible_answers: \n",
    "        feedback = get_feedback(guess,word)\n",
    "        fb=convert_ternary(feedback)\n",
    "        # PD_patterns[fb] = PD_patterns.get(fb,[]) +[word] \n",
    "        PD_patterns[fb]=PD_patterns.get(fb,0)+1/total\n",
    "    for prob in PD_patterns.values():\n",
    "        # Numberofpattern=len(lst)\n",
    "        # prob=Numberofpattern/total\n",
    "        # prob=lst\n",
    "        Entropy+=-(prob)*(log(prob)/log(2))\n",
    "    # print(PD_patterns)\n",
    "    return Entropy\n",
    "entropy('crane',real_possible_answers)\n",
    "\n"
   ]
  },
  {
   "cell_type": "code",
   "execution_count": 8,
   "metadata": {},
   "outputs": [],
   "source": [
    "def entropy_dict(allowed_guesses,possible_answers):\n",
    "    '''Function compute entropy of each word in list\n",
    "    Return the rank of possible answer (result of entropy function) based value of entropy\n",
    "    It may take less then 10 mins to compute for the first list - first guess'''\n",
    "    ranker=[]\n",
    "    for guess in allowed_guesses:\n",
    "        ranker.append((guess,entropy(guess,possible_answers)))\n",
    "    ranker.sort(key = lambda t: t[1], reverse = True)\n",
    "    return ranker\n"
   ]
  },
  {
   "cell_type": "code",
   "execution_count": 14,
   "metadata": {},
   "outputs": [
    {
     "name": "stdout",
     "output_type": "stream",
     "text": [
      "['soare', 5.885202744292758]\n"
     ]
    }
   ],
   "source": [
    "# import json\n",
    "# with open('firstguesses_hackHM.json','w') as f:\n",
    "#     json.dump(entropy_dict(allowed_guesses,real_possible_answers),f)\n",
    "# with open('firstguesses_hackHM.json','r') as f:\n",
    "#     file=json.load(f)\n",
    "# print(len(file))\n"
   ]
  },
  {
   "cell_type": "code",
   "execution_count": 9,
   "metadata": {},
   "outputs": [],
   "source": [
    "def savefile(name:str):\n",
    "    with open(f'{name}.json','w') as f:\n",
    "        json.dump(entropy_dict(allowed_guesses,real_possible_answers),f)\n"
   ]
  },
  {
   "cell_type": "code",
   "execution_count": 43,
   "metadata": {},
   "outputs": [
    {
     "name": "stdout",
     "output_type": "stream",
     "text": [
      "12953\n"
     ]
    }
   ],
   "source": [
    "def openfile(name):\n",
    "    with open(f'{name}.json','r') as f:\n",
    "        file=json.load(f)\n",
    "    return file\n",
    "file=openfile('firstguesses_hackHM')\n",
    "print(len(file))"
   ]
  },
  {
   "cell_type": "code",
   "execution_count": 40,
   "metadata": {},
   "outputs": [
    {
     "data": {
      "text/plain": [
       "5"
      ]
     },
     "execution_count": 40,
     "metadata": {},
     "output_type": "execute_result"
    }
   ],
   "source": [
    "def solution(answer,inputted=False):\n",
    "    '''This function return the number of step in this play\\n\n",
    "    answer: The secret word of the game\n",
    "    input : True is feedback inputted from terminal and vice versa\n",
    "    '''\n",
    "    k=0\n",
    "    guess=file[0]\n",
    "    word_list=allowed_guesses\n",
    "    while True:\n",
    "        k+=1\n",
    "        # it is real game\n",
    "        if inputted:\n",
    "            print(guess)\n",
    "            feedback=[int(i) for i in str(input())]\n",
    "        else:\n",
    "            feedback=get_feedback(guess,answer)\n",
    "        if feedback==[2]*5:\n",
    "            break\n",
    "        #use the solution\n",
    "        word_list=reduce_list(guess,feedback,word_list)\n",
    "        if len(word_list)==1:\n",
    "            guess=word_list[0]\n",
    "        else:\n",
    "            # guess=entropy_dict(allowed_guesses,word_list)[0][0]\n",
    "            guess=entropy_dict(allowed_guesses,word_list)[0][0]\n",
    "            \n",
    "    return k\n",
    "solution('leans')\n",
    "#33.5s/word\n",
    "\n"
   ]
  },
  {
   "cell_type": "code",
   "execution_count": 41,
   "metadata": {},
   "outputs": [
    {
     "data": {
      "image/png": "[encoded data removed]",
      "text/plain": [
       "<Figure size 640x480 with 1 Axes>"
      ]
     },
     "metadata": {},
     "output_type": "display_data"
    },
    {
     "data": {
      "text/plain": [
       "(99.95669120831529, 4.163707232568211)"
      ]
     },
     "execution_count": 41,
     "metadata": {},
     "output_type": "execute_result"
    }
   ],
   "source": [
    "def TestModel(solution,test_list:list,RANDOM=False) -> tuple:\n",
    "    '''\n",
    "    Parameter\n",
    "    ----------\n",
    "    solution: The function return the number of step to guess a specific answer \\n\n",
    "    test_list: The list of answers for testing\n",
    "    RANDOM: False, answer is chosen randomly and True, answer is chosen sequentially from the test_list\n",
    "    ----------\n",
    "    Return: The bar chart with x(number of guesses needed) and y (number of plays having x guesses) \\n\n",
    "                  The tupple of winrate and average score'''\n",
    "    import random\n",
    "    import time\n",
    "    t1=time.time()\n",
    "    #Compute some vital factor: number of plays having x guesses, win rate, average score of 2,3k plays   \n",
    "    xMax=20 # may be posituve infinity number\n",
    "    yMax=0\n",
    "    lst=[0]*xMax\n",
    "    N=len(test_list)# list contains number of plays having x guesses\n",
    "    for word in test_list:\n",
    "        if not RANDOM:\n",
    "            answer=word\n",
    "        elif RANDOM:\n",
    "            answer=random.choice(test_list)\n",
    "        NumberOfGuessesNeeded=solution(answer) \n",
    "        lst[NumberOfGuessesNeeded]=lst[NumberOfGuessesNeeded]+1\n",
    "    winrate=sum(lst[1:7])/N*100\n",
    "    average=sum([i*lst[i] for i in range(1,xMax)]) / N\n",
    "\n",
    "    #VISUALIZATION\n",
    "    import matplotlib.pyplot as plt\n",
    "    for i in range(1,xMax):\n",
    "        if lst[i] >=yMax: # because yMax always in (1,6)\n",
    "            yMax=lst[i]\n",
    "        if lst[i]==0 and i>6:\n",
    "            xMax=i\n",
    "            break\n",
    "    yMax=(yMax//100+2)*100\n",
    "    x=[str(i) for i in range(1,xMax)]\n",
    "    y=[i for i in lst[1:xMax]]\n",
    "    plt.ylim(0,yMax)\n",
    "    plt.grid(axis='y',linestyle='--')\n",
    "    plt.xlabel('Number of guesses needed')\n",
    "    plt.ylabel('Number of plays having x guesses')\n",
    "    plt.title('TEST PERFORMANCE')\n",
    "    plt.bar(x,y, fc=\"#CCD6A6\", ec=\"black\")\n",
    "    for i in range(len(x)):\n",
    "        plt.text(i, y[i], y[i], ha=\"center\", va=\"bottom\")\n",
    "    t2=time.time()\n",
    "    time=t2-t1\n",
    "    plt.text(xMax,yMax/2, f'Win Rate: {winrate:.3f}%\\nAverage Score: {average:.3f}\\nTime: {time:.3f}s', fontsize = 20,\n",
    "\t\tbbox = dict(facecolor = '#CCD6A6', alpha = 0.7))\n",
    "    plt.show()\n",
    "    return winrate,average\n",
    "\n",
    "TestModel(solution,real_possible_answers)\n",
    "        \n",
    "#all choose from real_possible_word\n",
    "#"
   ]
  }
 ],
 "metadata": {
  "kernelspec": {
   "display_name": "Python 3",
   "language": "python",
   "name": "python3"
  },
  "language_info": {
   "codemirror_mode": {
    "name": "ipython",
    "version": 3
   },
   "file_extension": ".py",
   "mimetype": "text/x-python",
   "name": "python",
   "nbconvert_exporter": "python",
   "pygments_lexer": "ipython3",
   "version": "3.10.4 (v3.10.4:9d38120e33, Mar 23 2022, 17:29:05) [Clang 13.0.0 (clang-1300.0.29.30)]"
  },
  "orig_nbformat": 4,
  "vscode": {
   "interpreter": {
    "hash": "aee8b7b246df8f9039afb4144a1f6fd8d2ca17a180786b69acc140d282b71a49"
   }
  }
 },
 "nbformat": 4,
 "nbformat_minor": 2
}
