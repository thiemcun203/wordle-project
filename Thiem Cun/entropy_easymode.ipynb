{
 "cells": [
  {
   "attachments": {},
   "cell_type": "markdown",
   "metadata": {},
   "source": [
    "This version (Greedy: Entropy in easy mode) use entropy of each word to choose the guess for the next step. But in this version, we still choose the next guess from allowed guesses not from reduced list. It is hoped to be give more information than older version (hardmode)\n",
    "We use guess from 13k words and answer from possible answer (reduced list in next step) to generate patterns and compute entropy"
   ]
  },
  {
   "cell_type": "code",
   "execution_count": 3,
   "metadata": {},
   "outputs": [],
   "source": [
    "import time\n",
    "from math import *\n",
    "import json\n",
    "with open('allowed_guesses.txt','r') as file:\n",
    "    allowed_guesses=[]\n",
    "    for i in file:\n",
    "        allowed_guesses.append(i[:5])\n",
    "with open(\"real_possible_answers.txt\",\"r\") as file:\n",
    "        real_possible_answers=[]\n",
    "        for i in file:\n",
    "            real_possible_answers.append(i[:5])\n",
    "\n"
   ]
  },
  {
   "cell_type": "code",
   "execution_count": 4,
   "metadata": {},
   "outputs": [
    {
     "data": {
      "text/plain": [
       "[0, 1, 2, 1, 0]"
      ]
     },
     "execution_count": 4,
     "metadata": {},
     "output_type": "execute_result"
    }
   ],
   "source": [
    "def get_feedback(guess:str,answer:str) -> list: \n",
    "    \"\"\"\n",
    "    get_feeback\n",
    "    ----------\n",
    "    guess: Five-letter guess.\n",
    "    answer: Five-letter correct answer.\n",
    "    Returns: Feedback contains 05 elements, which can be 0, 1, or 2, denoting a feedback pattern\n",
    "    \"\"\"\n",
    "    # convert string to list\n",
    "    answer = list(answer)\n",
    "    guess = list(guess)\n",
    "    \n",
    "    #initialize\n",
    "    feedback = ['']*5\n",
    "    \n",
    "    # isolate correctly placed letters\n",
    "    for i in range(5):\n",
    "        if guess[i] == answer[i]:\n",
    "            feedback[i] = 2\n",
    "            answer[i] = ''\n",
    "            guess[i] = ''\n",
    "\n",
    "    for i in range(5):\n",
    "        if guess[i] == '': continue\n",
    "        try:\n",
    "            index=answer.index(guess[i])\n",
    "            feedback[i] = 1\n",
    "            answer[index] = ''\n",
    "            guess[i] = ''\n",
    "        except:\n",
    "            feedback[i]=0\n",
    "    return feedback\n",
    "\n",
    "get_feedback('speed','crepe')"
   ]
  },
  {
   "cell_type": "code",
   "execution_count": 5,
   "metadata": {},
   "outputs": [
    {
     "data": {
      "text/plain": [
       "74"
      ]
     },
     "execution_count": 5,
     "metadata": {},
     "output_type": "execute_result"
    }
   ],
   "source": [
    "def reduce_list(guess:str,feedback:list,possible_answers:list) ->list:\n",
    "    '''This function return the reduced allowed word list - possible answers list which have real answer\n",
    "    \n",
    "    guess: the word we guessed in this step\n",
    "    feedback: the pattern given by game\n",
    "    word_list: allowed list in the first step and the reduced list in the next steps\n",
    "    '''\n",
    "    return [word for word in possible_answers if get_feedback(guess,word)==feedback]\n",
    "len(reduce_list('slate',[1,0,1,2,0],allowed_guesses))\n",
    "\n"
   ]
  },
  {
   "cell_type": "code",
   "execution_count": 6,
   "metadata": {},
   "outputs": [
    {
     "data": {
      "text/plain": [
       "137"
      ]
     },
     "execution_count": 6,
     "metadata": {},
     "output_type": "execute_result"
    }
   ],
   "source": [
    "def convert_ternary(feedback):\n",
    "    \"\"\"\n",
    "    Parameters\n",
    "    ----------\n",
    "    Feedback: Contains 05 elements, which can be 0, 1, or 2, denoting a feedback pattern.\n",
    "    Returns\n",
    "    -------\n",
    "    Number: Integer base 10 representation of pattern.\n",
    "    \"\"\"\n",
    "    return sum([feedback[i]*3**(4-i) for i in range(5)])\n",
    "convert_ternary([1,2,0,0,2])"
   ]
  },
  {
   "cell_type": "code",
   "execution_count": null,
   "metadata": {},
   "outputs": [],
   "source": []
  }
 ],
 "metadata": {
  "kernelspec": {
   "display_name": "Python 3",
   "language": "python",
   "name": "python3"
  },
  "language_info": {
   "codemirror_mode": {
    "name": "ipython",
    "version": 3
   },
   "file_extension": ".py",
   "mimetype": "text/x-python",
   "name": "python",
   "nbconvert_exporter": "python",
   "pygments_lexer": "ipython3",
   "version": "3.10.4 (v3.10.4:9d38120e33, Mar 23 2022, 17:29:05) [Clang 13.0.0 (clang-1300.0.29.30)]"
  },
  "orig_nbformat": 4,
  "vscode": {
   "interpreter": {
    "hash": "aee8b7b246df8f9039afb4144a1f6fd8d2ca17a180786b69acc140d282b71a49"
   }
  }
 },
 "nbformat": 4,
 "nbformat_minor": 2
}
