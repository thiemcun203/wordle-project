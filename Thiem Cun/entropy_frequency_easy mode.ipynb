{
 "cells": [
  {
   "attachments": {},
   "cell_type": "markdown",
   "metadata": {},
   "source": [
    "This version (Greedy: Entropy incorporating with word frequency in HardMode) use entropy/information of each word in allowed guesses to rank and choose which will be guess in next step. But the prob to be chosen will be depend on word frequency <br />\n",
    "Some words have the prob to be answer likely equal, but the difference of frequency between them is too high. Answer ~ Common and conversely but not proportional exactly to frequency. At some threshold, all common words have the nearly same probability of being answer and vice versa. Hence, we use the frequenct into the signmoid function to classify two sets which are highly answers and lowly answers. In these sets, prob of words is similiar to each other"
   ]
  },
  {
   "attachments": {},
   "cell_type": "markdown",
   "metadata": {},
   "source": [
    "### Algorithm\n",
    "1. Compute word frequency\n",
    "2. Probability of being answer by logistic classification\n",
    "3. Compute entropy of each word\n",
    "4. Compare then choose guess for each step\n",
    "5. Test and try related other algorithms"
   ]
  },
  {
   "cell_type": "code",
   "execution_count": 1,
   "metadata": {},
   "outputs": [],
   "source": [
    "\n",
    "from math import *\n",
    "import numpy as np\n",
    "import json\n",
    "with open('word_freq_ggdict.json') as file:\n",
    "    word_freq_ggdict=json.load(file)\n",
    "with open('allowed_guesses.txt','r') as file:\n",
    "    allowed_guesses=[]\n",
    "    for i in file:\n",
    "        allowed_guesses.append(i[:5])\n",
    "with open(\"real_possible_answers.txt\",\"r\") as file:\n",
    "        real_possible_answers=[]\n",
    "        for i in file:\n",
    "            real_possible_answers.append(i[:5])\n"
   ]
  },
  {
   "cell_type": "code",
   "execution_count": 2,
   "metadata": {},
   "outputs": [],
   "source": [
    "def sigmoid(x):\n",
    "    return 1/(1+e**(-x))"
   ]
  },
  {
   "cell_type": "code",
   "execution_count": 3,
   "metadata": {},
   "outputs": [
    {
     "data": {
      "text/plain": [
       "3000"
      ]
     },
     "execution_count": 3,
     "metadata": {},
     "output_type": "execute_result"
    }
   ],
   "source": [
    "CommonWord=3000\n",
    "def get_freq(word_freq_ggdict:list,CommonWord=CommonWord,Width=10) -> dict:\n",
    "    #make sorted word list by freq\n",
    "    lst=list(word_freq_ggdict.items())\n",
    "    lst.sort(key=lambda x: x[1])\n",
    "    \n",
    "    #add word into horizontal axis of sigmoid function\n",
    "    N=len(word_freq_ggdict)\n",
    "    metric = np.linspace(-Width*(N-CommonWord)/N,Width*CommonWord/N,N)\n",
    "    priors=dict()\n",
    "    for pair, unit in zip(lst,metric):\n",
    "        priors[pair[0]]=sigmoid(unit)\n",
    "    return priors\n",
    "len(list(get_freq(word_freq_ggdict).keys())[:-3001:-1])"
   ]
  },
  {
   "cell_type": "code",
   "execution_count": 4,
   "metadata": {},
   "outputs": [],
   "source": [
    "def get_feedback(guess:str,answer:str) -> list: \n",
    "    \"\"\"\n",
    "    get_feeback\n",
    "    ----------\n",
    "    guess: Five-letter guess.\n",
    "    answer: Five-letter correct answer.\n",
    "    Returns: Feedback contains 05 elements, which can be 0, 1, or 2, denoting a feedback pattern\n",
    "    \"\"\"\n",
    "    # convert string to list\n",
    "    answer = list(answer)\n",
    "    guess = list(guess)\n",
    "    \n",
    "    #initialize\n",
    "    feedback = ['']*5\n",
    "    \n",
    "    # isolate correctly placed letters\n",
    "    for i in range(5):\n",
    "        if guess[i] == answer[i]:\n",
    "            feedback[i] = 2\n",
    "            answer[i] = ''\n",
    "            guess[i] = ''\n",
    "\n",
    "    for i in range(5):\n",
    "        if guess[i] == '': continue\n",
    "        try:\n",
    "            index=answer.index(guess[i])\n",
    "            feedback[i] = 1\n",
    "            answer[index] = ''\n",
    "            guess[i] = ''\n",
    "        except:\n",
    "            feedback[i]=0\n",
    "    return feedback\n"
   ]
  },
  {
   "cell_type": "code",
   "execution_count": 5,
   "metadata": {},
   "outputs": [],
   "source": [
    "def reduce_list(guess:str,feedback:list,word_list:list) ->list:\n",
    "    '''This function return the reduced allowed word list which have real answer\n",
    "    \n",
    "    guess: the word we guessed in this step\n",
    "    feedback: the pattern given by game\n",
    "    word_list: allowed list in the first step and the reduced list in the next steps\n",
    "    '''\n",
    "    return [word for word in word_list if get_feedback(guess,word)==feedback]\n",
    "# reduce_list('soare',convert_ternary([0,1,2,0,0]),allowed_guesses)"
   ]
  },
  {
   "cell_type": "code",
   "execution_count": 6,
   "metadata": {},
   "outputs": [
    {
     "data": {
      "text/plain": [
       "108"
      ]
     },
     "execution_count": 6,
     "metadata": {},
     "output_type": "execute_result"
    }
   ],
   "source": [
    "def convert_ternary(feedback):\n",
    "    \"\"\"\n",
    "    Parameters\n",
    "    ----------\n",
    "    Feedback: Contains 05 elements, which can be 0, 1, or 2, denoting a feedback pattern.\n",
    "    Returns\n",
    "    -------\n",
    "    Number: Integer base 10 representation of pattern.\n",
    "    \"\"\"\n",
    "    return sum([feedback[i]*3**(4-i) for i in range(5)])\n",
    "convert_ternary([1,1,0,0,0])"
   ]
  },
  {
   "cell_type": "code",
   "execution_count": 20,
   "metadata": {},
   "outputs": [
    {
     "name": "stdout",
     "output_type": "stream",
     "text": [
      "('aahed', 0.0)\n"
     ]
    }
   ],
   "source": [
    "frequency=get_freq(word_freq_ggdict)\n",
    "def entropy(guess:str, possible_answers:list):\n",
    "    '''Function compute the entropy of each word which could be chosen in hard mode \\n\n",
    "    Return value of entropy(bits)'''\n",
    "    Entropy=0\n",
    "    pd_patterns = {} \n",
    "    total_freq=0\n",
    "    # words_of_pattern={}\n",
    "    for word in possible_answers:\n",
    "        total_freq+=frequency[word]\n",
    "    for word in possible_answers: \n",
    "        feedback = convert_ternary(get_feedback(guess,word))\n",
    "        # words_of_pattern[feedback]=words_of_pattern.get(feedback,[])+[word]\n",
    "        pd_patterns[feedback] = pd_patterns.get(feedback,0) +frequency[word]/total_freq\n",
    "    for prob in pd_patterns.values():\n",
    "        Entropy+=-prob*log2(prob)\n",
    "    return Entropy\n",
    "reduce=reduce_list('tares',[0,2,0,0,0],allowed_guesses)\n",
    "\n",
    "reduce=reduce_list('mincy',[0,0,2,0,2],reduce)\n",
    "reduce=reduce_list('khadi',[0,1,1,2,0],reduce)\n",
    "reduce=reduce_list('aahed',[0,2,1,0,1],reduce)\n",
    "ranker=entropy_dict(allowed_guesses,reduce)\n",
    "print(ranker[0])\n",
    "\n",
    "\n",
    "# ('mincy', 4.7771343171404235)\n",
    "# "
   ]
  },
  {
   "cell_type": "code",
   "execution_count": 16,
   "metadata": {},
   "outputs": [],
   "source": [
    "def entropy_dict(allowed_guesses:list,possible_answers:list):\n",
    "    ranker=[]\n",
    "    for guess in allowed_guesses:\n",
    "        pair=(guess,entropy(guess,possible_answers))\n",
    "        ranker.append(pair)\n",
    "    ranker.sort(key=lambda x: x[1], reverse=True)\n",
    "    return ranker\n",
    "\n",
    "\n"
   ]
  },
  {
   "cell_type": "code",
   "execution_count": 9,
   "metadata": {},
   "outputs": [],
   "source": [
    "def savefile(name:str):\n",
    "    with open(f'{name}.json','w') as f:\n",
    "        json.dump(entropy_dict(allowed_guesses,allowed_guesses),f)\n",
    "\n",
    "#15m40.6s"
   ]
  },
  {
   "cell_type": "code",
   "execution_count": 22,
   "metadata": {},
   "outputs": [],
   "source": [
    "def openfile(name):\n",
    "    with open(f'{name}.json','r') as f:\n",
    "        file=json.load(f)\n",
    "    return file\n",
    "file=openfile('firstguesses_freq')[0]"
   ]
  },
  {
   "cell_type": "code",
   "execution_count": 44,
   "metadata": {},
   "outputs": [
    {
     "name": "stdout",
     "output_type": "stream",
     "text": [
      "tares\n",
      "mincy\n",
      "khadi\n",
      "handy\n"
     ]
    },
    {
     "data": {
      "text/plain": [
       "4"
      ]
     },
     "execution_count": 44,
     "metadata": {},
     "output_type": "execute_result"
    }
   ],
   "source": [
    "def solution(answer,inputted=False):\n",
    "    '''This function return the number of step in this play\\n\n",
    "    answer: The secret word of the game\n",
    "    input : True is feedback inputted from terminal and vice versa\n",
    "    '''\n",
    "    k=0\n",
    "    guess=file[0]\n",
    "    word_list=allowed_guesses\n",
    "    while True:\n",
    "        k+=1\n",
    "        # it is real game\n",
    "        if inputted:\n",
    "            print(guess)\n",
    "            feedback=[int(i) for i in str(input())]\n",
    "        else:\n",
    "            feedback=get_feedback(guess,answer)\n",
    "        if feedback==[2]*5:\n",
    "            break\n",
    "        #use the solution\n",
    "        word_list=reduce_list(guess,feedback,word_list)\n",
    "        if len(word_list)==1:\n",
    "            guess=word_list[0]\n",
    "        else:\n",
    "            guess=entropy_dict(allowed_guesses,word_list)[0][0]\n",
    "    return k\n",
    "solution('handy',True)"
   ]
  },
  {
   "cell_type": "code",
   "execution_count": 38,
   "metadata": {},
   "outputs": [
    {
     "name": "stdout",
     "output_type": "stream",
     "text": [
      "['bandy', 'dandy', 'danny', 'fanny', 'gandy', 'handy', 'hanky', 'janny', 'kandy', 'lanky', 'nanny', 'pandy', 'wanky', 'wanly']\n",
      "['handy']\n"
     ]
    },
    {
     "data": {
      "text/plain": [
       "('danny', 2.2215027554694475)"
      ]
     },
     "execution_count": 38,
     "metadata": {},
     "output_type": "execute_result"
    }
   ],
   "source": [
    "reduce1=reduce_list('tares',[0,2,0,0,0],allowed_guesses)\n",
    "reduce2=reduce_list('mincy',[0,0,2,0,2],reduce1)\n",
    "print(reduce2)\n",
    "# entropy_dict(reduce2,reduce2)[0]\n",
    "# reduce3=reduce_list('danny',[1,2,2,0,2],reduce2)\n",
    "# entropy_dict(reduce3,reduce3)[0]\n",
    "\n",
    "entropy_dict(allowed_guesses,reduce2)[0]\n",
    "reduce3=reduce_list('khadi',[0,1,1,2,0],reduce2)\n",
    "print(reduce3)\n",
    "entropy_dict(reduce2,reduce2)[0]\n",
    "#consider when remain 1 element\n",
    "\n"
   ]
  },
  {
   "cell_type": "code",
   "execution_count": 45,
   "metadata": {},
   "outputs": [],
   "source": [
    "def TestModel(solution,test_list:list,RANDOM=False) -> tuple:\n",
    "    '''\n",
    "    Parameter\n",
    "    ----------\n",
    "    solution: The function return the number of step to guess a specific answer \\n\n",
    "    test_list: The list of answers for testing\n",
    "    RANDOM: False, answer is chosen randomly and True, answer is chosen sequentially from the test_list\n",
    "    ----------\n",
    "    Return: The bar chart with x(number of guesses needed) and y (number of plays having x guesses) \\n\n",
    "                  The tupple of winrate and average score'''\n",
    "    import random\n",
    "    import time\n",
    "    t1=time.time()\n",
    "    #Compute some vital factor: number of plays having x guesses, win rate, average score of 2,3k plays   \n",
    "    xMax=20 # may be posituve infinity number\n",
    "    yMax=0\n",
    "    lst=[0]*xMax\n",
    "    N=len(test_list)# list contains number of plays having x guesses\n",
    "    for word in test_list:\n",
    "        if not RANDOM:\n",
    "            answer=word\n",
    "        elif RANDOM:\n",
    "            answer=random.choice(test_list)\n",
    "        NumberOfGuessesNeeded=solution(answer) \n",
    "        lst[NumberOfGuessesNeeded]=lst[NumberOfGuessesNeeded]+1\n",
    "    winrate=sum(lst[1:7])/N*100\n",
    "    average=sum([i*lst[i] for i in range(1,xMax)]) / N\n",
    "\n",
    "    #VISUALIZATION\n",
    "    import matplotlib.pyplot as plt\n",
    "    for i in range(1,xMax):\n",
    "        if lst[i] >=yMax: # because yMax always in (1,6)\n",
    "            yMax=lst[i]\n",
    "        if lst[i]==0 and i>6:\n",
    "            xMax=i\n",
    "            break\n",
    "    yMax=(yMax//100+2)*100\n",
    "    x=[str(i) for i in range(1,xMax)]\n",
    "    y=[i for i in lst[1:xMax]]\n",
    "    plt.ylim(0,yMax)\n",
    "    plt.grid(axis='y',linestyle='--')\n",
    "    plt.xlabel('Number of guesses needed')\n",
    "    plt.ylabel('Number of plays having x guesses')\n",
    "    plt.title('TEST PERFORMANCE')\n",
    "    plt.bar(x,y, fc=\"#CCD6A6\", ec=\"black\")\n",
    "    for i in range(len(x)):\n",
    "        plt.text(i, y[i], y[i], ha=\"center\", va=\"bottom\")\n",
    "    t2=time.time()\n",
    "    time=t2-t1\n",
    "    plt.text(xMax,yMax/2, f'Win Rate: {winrate:.3f}%\\nAverage Score: {average:.3f}\\nTime: {time:.3f}s', fontsize = 20,\n",
    "\t\tbbox = dict(facecolor = '#CCD6A6', alpha = 0.7))\n",
    "    plt.show()\n",
    "    return winrate,average\n",
    "\n",
    "TestModel(solution,real_possible_answers)\n",
    "        \n"
   ]
  }
 ],
 "metadata": {
  "kernelspec": {
   "display_name": "Python 3",
   "language": "python",
   "name": "python3"
  },
  "language_info": {
   "codemirror_mode": {
    "name": "ipython",
    "version": 3
   },
   "file_extension": ".py",
   "mimetype": "text/x-python",
   "name": "python",
   "nbconvert_exporter": "python",
   "pygments_lexer": "ipython3",
   "version": "3.10.4"
  },
  "orig_nbformat": 4,
  "vscode": {
   "interpreter": {
    "hash": "aee8b7b246df8f9039afb4144a1f6fd8d2ca17a180786b69acc140d282b71a49"
   }
  }
 },
 "nbformat": 4,
 "nbformat_minor": 2
}
