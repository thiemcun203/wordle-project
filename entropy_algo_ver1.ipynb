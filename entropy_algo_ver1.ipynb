{
 "cells": [
  {
   "cell_type": "markdown",
   "metadata": {},
   "source": [
    "*Firstly, we only have approximately 13,000 allowed words to build guess model. Ignore everything in clone game and official game which are just for testing and computing score\n",
    "We will consider guess word, the feedback of each guess as the input of such model*\n"
   ]
  },
  {
   "cell_type": "markdown",
   "metadata": {},
   "source": [
    "## VERSION 1\n",
    "**Note**: *Measure expected entropy to choose word at only current guess, not base on next guess, total expeted entropy which will be shown in version 2 and not base on common word at version 3... or even base on possible words at verson 4*\n",
    ">Step:\n",
    "1. Handle input\n",
    "2. Compute probability of all patterns of each words in allowed word, then entropy, then expected entroy to choose first guess\n",
    "3. Make a heuristic function for next steps\n",
    "4. Iterative steps to guess "
   ]
  },
  {
   "cell_type": "code",
   "execution_count": null,
   "metadata": {},
   "outputs": [],
   "source": [
    "with open('allowed_words.txt','r') as file:\n",
    "    allowed_lst=[]\n",
    "    for i in file:\n",
    "        allowed_lst.append(i[:5])"
   ]
  },
  {
   "cell_type": "code",
   "execution_count": null,
   "metadata": {},
   "outputs": [],
   "source": [
    "# feedback=str(input(\"Enter first pattern: \"))\n",
    "'''Green is 2, Yellow is 1, Gray is 0 ''' \n",
    "def generate_patterns() -> list:\n",
    "    '''Create a possible pattern'''\n",
    "    n=5\n",
    "    pattern=[0 for i in range(n+1)]\n",
    "    res=[]\n",
    "    def Try(k):\n",
    "        for i in range(3):\n",
    "            pattern[k]=i\n",
    "            if k==n:\n",
    "                res.append(\"\".join([str(i) for i in pattern[1:]]))\n",
    "            else:\n",
    "                Try(k+1)\n",
    "    Try(1)\n",
    "    return res\n",
    "pattern_lst=generate_patterns()   "
   ]
  },
  {
   "cell_type": "code",
   "execution_count": null,
   "metadata": {},
   "outputs": [],
   "source": [
    "def heuristic(word:str,pattern:str, guess_lst =allowed_lst) ->list :\n",
    "    '''Return a list of possible words after guessing and recieve feedback '''\n",
    "    green=[]\n",
    "    yellow=[]\n",
    "    gray=[]\n",
    "    for i in range(5):\n",
    "        if pattern[i]==\"2\":\n",
    "           green.append(i)\n",
    "        elif pattern[i]==\"1\":\n",
    "            yellow.append(i)\n",
    "        else:\n",
    "            gray.append(i)\n",
    "\n",
    "    res=[]\n",
    "    for pos_word in guess_lst:\n",
    "        have=-1\n",
    "        pos_word_lst=[i for i in pos_word]\n",
    "        for i in gray:\n",
    "            if word[i] in pos_word_lst:\n",
    "                have=0\n",
    "        for i in yellow:\n",
    "            if word[i] not in pos_word_lst or word[i] == pos_word[i] :\n",
    "                have=1\n",
    "        for i in green:\n",
    "            if word[i] != pos_word[i]:\n",
    "                have=2\n",
    "        if have!=-1:\n",
    "            continue\n",
    "        else:\n",
    "            res.append(pos_word)\n",
    "    return res"
   ]
  },
  {
   "cell_type": "code",
   "execution_count": null,
   "metadata": {},
   "outputs": [],
   "source": [
    "def probability(word: str, pattern: str,guess_lst=allowed_lst) -> float:\n",
    "    '''This function returns probability of the pattern of the specific word '''\n",
    "    N=len(guess_lst)\n",
    "    num_of_pos=len(heuristic(word, pattern, guess_lst))\n",
    "    return num_of_pos/N\n"
   ]
  },
  {
   "cell_type": "code",
   "execution_count": null,
   "metadata": {},
   "outputs": [],
   "source": [
    "from math import *\n",
    "def compute_entropy(prob: float) -> float:\n",
    "    '''This funtion retuns the value of entropy of a pattern which have prob   '''\n",
    "    return -log2(prob)\n",
    "    "
   ]
  },
  {
   "cell_type": "code",
   "execution_count": null,
   "metadata": {},
   "outputs": [],
   "source": [
    "def Expected_entropy(word: str,guess_lst=allowed_lst):\n",
    "    '''This function returns the expected value of entropy \\n \n",
    "    of all patterns of the specific word'''\n",
    "    \n",
    "    res=0\n",
    "    for pattern in pattern_lst:\n",
    "        prob=probability(word,pattern,guess_lst)\n",
    "        if prob==0:\n",
    "            continue\n",
    "        else:\n",
    "            res+=prob*compute_entropy(prob)\n",
    "    return res\n"
   ]
  },
  {
   "cell_type": "code",
   "execution_count": null,
   "metadata": {},
   "outputs": [],
   "source": [
    "def suggested_guess(guess_lst:str=allowed_lst) -> str:\n",
    "    '''This function returns the suggested word to guess by inputting \\n \n",
    "    the list of possible words after feedback is returned or guess_lst'''\n",
    "    Max_Entropy=Expected_entropy(guess_lst[0],guess_lst)\n",
    "    res=guess_lst[0]\n",
    "    for word in guess_lst:\n",
    "        Entropy=Expected_entropy(word, guess_lst)\n",
    "        if Max_Entropy < Entropy:\n",
    "            Max_Entropy=Entropy\n",
    "            res=word\n",
    "    return res"
   ]
  },
  {
   "cell_type": "markdown",
   "metadata": {},
   "source": [
    ">TEST"
   ]
  },
  {
   "cell_type": "code",
   "execution_count": 83,
   "metadata": {},
   "outputs": [
    {
     "name": "stdout",
     "output_type": "stream",
     "text": [
      "1\n",
      "medal\n"
     ]
    }
   ],
   "source": [
    "# Guess 1th \n",
    "# using directly tares because too much time to suggest, new1lst=allowed_word\n",
    "newlst=allowed_lst\n",
    "\n",
    "# Guess 2th\n",
    "new2lst=heuristic('tares', '01010',newlst)\n",
    "# print(len(new2lst))\n",
    "# print(suggested_guess(new2lst))\n",
    "\n",
    "# Guess 3th\n",
    "new3lst=heuristic('liane','10101',new2lst)\n",
    "# print(len(new3lst))\n",
    "# print(suggested_guess(new3lst))\n",
    "\n",
    "# Guess 4th\n",
    "new4lst=heuristic('delay','12120',new3lst)\n",
    "# print(len(new4lst))\n",
    "# print(suggested_guess(new4lst))\n",
    "\n",
    "# Guess 5th\n",
    "new5lst=heuristic('pedal','02222',new4lst)\n",
    "print(len(new5lst))\n",
    "print(suggested_guess(new5lst))"
   ]
  },
  {
   "cell_type": "code",
   "execution_count": null,
   "metadata": {},
   "outputs": [],
   "source": []
  }
 ],
 "metadata": {
  "kernelspec": {
   "display_name": "Python 3.10.4 64-bit",
   "language": "python",
   "name": "python3"
  },
  "language_info": {
   "codemirror_mode": {
    "name": "ipython",
    "version": 3
   },
   "file_extension": ".py",
   "mimetype": "text/x-python",
   "name": "python",
   "nbconvert_exporter": "python",
   "pygments_lexer": "ipython3",
   "version": "3.10.4"
  },
  "orig_nbformat": 4,
  "vscode": {
   "interpreter": {
    "hash": "aee8b7b246df8f9039afb4144a1f6fd8d2ca17a180786b69acc140d282b71a49"
   }
  }
 },
 "nbformat": 4,
 "nbformat_minor": 2
}
