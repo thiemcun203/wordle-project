{
 "cells": [
  {
   "cell_type": "markdown",
   "metadata": {},
   "source": [
    "*Firstly, we only have approximately 13,000 allowed words to build guess model. Ignore everything in clone game and official game which are just for testing and computing score\n",
    "We will consider guess word, the feedback of each guess as the input of such model*\n"
   ]
  },
  {
   "cell_type": "markdown",
   "metadata": {},
   "source": [
    "## VERSION 1\n",
    "**Note**: *Measure expected entropy to choose word at only current guess, not base on next guess, total expeted entropy which will be shown in version 2 and not base on common word at version 3... or even base on possible words at verson 4*\n",
    ">Step:\n",
    "1. Handle input\n",
    "2. Compute probability of all patterns of each words in allowed word, then entropy, then expected entroy to choose first guess\n",
    "3. Make a heuristic function for next steps\n",
    "4. Iterative steps to guess "
   ]
  },
  {
   "cell_type": "code",
   "execution_count": null,
   "metadata": {},
   "outputs": [],
   "source": [
    "with open('allowed_words.txt','r') as file:\n",
    "    allowed_lst=[]\n",
    "    for i in file:\n",
    "        allowed_lst.append(i[:5])"
   ]
  },
  {
   "cell_type": "code",
   "execution_count": 50,
   "metadata": {},
   "outputs": [],
   "source": [
    "# feedback=str(input(\"Enter first pattern: \"))\n",
    "'''Green is 2, Yellow is 1, Gray is 0 ''' \n",
    "def generate_patterns() -> list:\n",
    "    '''Create a possible pattern'''\n",
    "    n=5\n",
    "    pattern=[0 for i in range(n+1)]\n",
    "    res=[]\n",
    "    def Try(k):\n",
    "        for i in range(3):\n",
    "            pattern[k]=i\n",
    "            if k==n:\n",
    "                res.append(\"\".join([str(i) for i in pattern[1:]]))\n",
    "            else:\n",
    "                Try(k+1)\n",
    "    Try(1)\n",
    "    return res\n",
    "pattern_lst=generate_patterns()   "
   ]
  },
  {
   "cell_type": "code",
   "execution_count": 52,
   "metadata": {},
   "outputs": [],
   "source": [
    "def heuristic(word:str,pattern:str, allowed_lst :list) ->list :\n",
    "    '''Return a list of possible words after guessing and recieve feedback '''\n",
    "    green=[]\n",
    "    yellow=[]\n",
    "    gray=[]\n",
    "    for i in range(5):\n",
    "        if pattern[i]==\"2\":\n",
    "           green.append(i)\n",
    "        elif pattern[i]==\"1\":\n",
    "            yellow.append(i)\n",
    "        else:\n",
    "            gray.append(i)\n",
    "\n",
    "    res=[]\n",
    "    for pos_word in allowed_lst:\n",
    "        have=-1\n",
    "        pos_word_lst=[i for i in pos_word]\n",
    "        for i in gray:\n",
    "            if word[i] in pos_word_lst:\n",
    "                have=0\n",
    "        for i in yellow:\n",
    "            if word[i] not in pos_word_lst or word[i] == pos_word[i] :\n",
    "                have=1\n",
    "        for i in green:\n",
    "            if word[i] != pos_word[i]:\n",
    "                have=2\n",
    "        if have!=-1:\n",
    "            continue\n",
    "        else:\n",
    "            res.append(pos_word)\n",
    "    return res"
   ]
  },
  {
   "cell_type": "code",
   "execution_count": 53,
   "metadata": {},
   "outputs": [
    {
     "name": "stdout",
     "output_type": "stream",
     "text": [
      "0.004477727167451556\n"
     ]
    }
   ],
   "source": [
    "def probability(word: str, pattern: str) -> float:\n",
    "    '''This function returns probability of the pattern of the specific word '''\n",
    "    N=len(allowed_lst)\n",
    "    num_of_pos=len(heuristic(word,pattern, allowed_lst))\n",
    "    return num_of_pos/N\n",
    "print(probability('weary','20100'))"
   ]
  },
  {
   "cell_type": "code",
   "execution_count": 54,
   "metadata": {},
   "outputs": [],
   "source": [
    "from math import *\n",
    "def compute_entropy(prob: float) -> float:\n",
    "    '''This funtion retuns the value of entropy of a pattern which have prob   '''\n",
    "    return -log2(prob)\n",
    "    "
   ]
  },
  {
   "cell_type": "code",
   "execution_count": 61,
   "metadata": {},
   "outputs": [
    {
     "name": "stdout",
     "output_type": "stream",
     "text": [
      "6.000576805791649\n"
     ]
    }
   ],
   "source": [
    "def Expected_entropy(word: str):\n",
    "    '''This function returns the expected value of entropy \\n \n",
    "    of all patterns of the specific word'''\n",
    "    global pattern_lst\n",
    "    res=0\n",
    "    for pattern in pattern_lst:\n",
    "        prob=probability(word,pattern)\n",
    "        if prob==0:\n",
    "            continue\n",
    "        else:\n",
    "            res+=prob*compute_entropy(prob)\n",
    "    return res\n"
   ]
  },
  {
   "cell_type": "code",
   "execution_count": 56,
   "metadata": {},
   "outputs": [
    {
     "ename": "KeyboardInterrupt",
     "evalue": "",
     "output_type": "error",
     "traceback": [
      "\u001b[0;31m---------------------------------------------------------------------------\u001b[0m",
      "\u001b[0;31mKeyboardInterrupt\u001b[0m                         Traceback (most recent call last)",
      "Cell \u001b[0;32mIn [56], line 12\u001b[0m\n\u001b[1;32m     10\u001b[0m             res\u001b[39m=\u001b[39mword\n\u001b[1;32m     11\u001b[0m     \u001b[39mreturn\u001b[39;00m res\n\u001b[0;32m---> 12\u001b[0m \u001b[39mprint\u001b[39m(suggested_guess(allowed_lst))\n",
      "Cell \u001b[0;32mIn [56], line 7\u001b[0m, in \u001b[0;36msuggested_guess\u001b[0;34m(allowed_lst)\u001b[0m\n\u001b[1;32m      5\u001b[0m res\u001b[39m=\u001b[39mallowed_lst[\u001b[39m0\u001b[39m]\n\u001b[1;32m      6\u001b[0m \u001b[39mfor\u001b[39;00m word \u001b[39min\u001b[39;00m allowed_lst:\n\u001b[0;32m----> 7\u001b[0m     Entropy\u001b[39m=\u001b[39mExpected_entropy(word)\n\u001b[1;32m      8\u001b[0m     \u001b[39mif\u001b[39;00m Max_Entropy \u001b[39m<\u001b[39m Entropy:\n\u001b[1;32m      9\u001b[0m         Max_Entropy\u001b[39m=\u001b[39mEntropy\n",
      "Cell \u001b[0;32mIn [55], line 7\u001b[0m, in \u001b[0;36mExpected_entropy\u001b[0;34m(word)\u001b[0m\n\u001b[1;32m      5\u001b[0m res\u001b[39m=\u001b[39m\u001b[39m0\u001b[39m\n\u001b[1;32m      6\u001b[0m \u001b[39mfor\u001b[39;00m pattern \u001b[39min\u001b[39;00m pattern_lst:\n\u001b[0;32m----> 7\u001b[0m     prob\u001b[39m=\u001b[39mprobability(word,pattern)\n\u001b[1;32m      8\u001b[0m     \u001b[39mif\u001b[39;00m prob\u001b[39m==\u001b[39m\u001b[39m0\u001b[39m:\n\u001b[1;32m      9\u001b[0m         \u001b[39mcontinue\u001b[39;00m\n",
      "Cell \u001b[0;32mIn [53], line 4\u001b[0m, in \u001b[0;36mprobability\u001b[0;34m(word, pattern)\u001b[0m\n\u001b[1;32m      2\u001b[0m \u001b[39m'''This function returns probability of the pattern of the specific word '''\u001b[39;00m\n\u001b[1;32m      3\u001b[0m N\u001b[39m=\u001b[39m\u001b[39mlen\u001b[39m(allowed_lst)\n\u001b[0;32m----> 4\u001b[0m num_of_pos\u001b[39m=\u001b[39m\u001b[39mlen\u001b[39m(heuristic(word,pattern, allowed_lst))\n\u001b[1;32m      5\u001b[0m \u001b[39mreturn\u001b[39;00m num_of_pos\u001b[39m/\u001b[39mN\n",
      "Cell \u001b[0;32mIn [52], line 22\u001b[0m, in \u001b[0;36mheuristic\u001b[0;34m(word, pattern, allowed_lst)\u001b[0m\n\u001b[1;32m     20\u001b[0m         have\u001b[39m=\u001b[39m\u001b[39m0\u001b[39m\n\u001b[1;32m     21\u001b[0m \u001b[39mfor\u001b[39;00m i \u001b[39min\u001b[39;00m yellow:\n\u001b[0;32m---> 22\u001b[0m     \u001b[39mif\u001b[39;00m word[i] \u001b[39mnot\u001b[39;00m \u001b[39min\u001b[39;00m pos_word_lst \u001b[39mor\u001b[39;00m word[i] \u001b[39m==\u001b[39m pos_word[i] :\n\u001b[1;32m     23\u001b[0m         have\u001b[39m=\u001b[39m\u001b[39m1\u001b[39m\n\u001b[1;32m     24\u001b[0m \u001b[39mfor\u001b[39;00m i \u001b[39min\u001b[39;00m green:\n",
      "\u001b[0;31mKeyboardInterrupt\u001b[0m: "
     ]
    }
   ],
   "source": [
    "def suggested_guess(allowed_lst:list) -> str:\n",
    "    '''This function returns the suggested word to guess by inputting \\n \n",
    "    the list of possible words after feedback is returned or allowed_lst'''\n",
    "    Max_Entropy=Expected_entropy(allowed_lst[0])\n",
    "    res=allowed_lst[0]\n",
    "    for word in allowed_lst:\n",
    "        Entropy=Expected_entropy(word)\n",
    "        if Max_Entropy < Entropy:\n",
    "            Max_Entropy=Entropy\n",
    "            res=word\n",
    "    return res\n",
    "print(suggested_guess(allowed_lst))"
   ]
  },
  {
   "cell_type": "code",
   "execution_count": null,
   "metadata": {},
   "outputs": [],
   "source": []
  }
 ],
 "metadata": {
  "kernelspec": {
   "display_name": "Python 3.10.4 64-bit",
   "language": "python",
   "name": "python3"
  },
  "language_info": {
   "codemirror_mode": {
    "name": "ipython",
    "version": 3
   },
   "file_extension": ".py",
   "mimetype": "text/x-python",
   "name": "python",
   "nbconvert_exporter": "python",
   "pygments_lexer": "ipython3",
   "version": "3.10.4"
  },
  "orig_nbformat": 4,
  "vscode": {
   "interpreter": {
    "hash": "aee8b7b246df8f9039afb4144a1f6fd8d2ca17a180786b69acc140d282b71a49"
   }
  }
 },
 "nbformat": 4,
 "nbformat_minor": 2
}
