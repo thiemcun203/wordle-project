{
 "cells": [
  {
   "cell_type": "markdown",
   "metadata": {},
   "source": [
    "*Firstly, we only have approximately 13,000 allowed words to build guess model. Ignore everything in clone game and official game which are just for testing and computing score\n",
    "We will consider guess word, the feedback of each guess as the input of such model*\n"
   ]
  },
  {
   "cell_type": "markdown",
   "metadata": {},
   "source": [
    "## VERSION 1\n",
    "**Note**: *Measure expected entropy to choose word at only current guess, not base on next guess, total expeted entropy which will be shown in version 2 and not base on common word at version 3... or even base on possible words at verson 4*\n",
    ">Step:\n",
    "1. Handle input\n",
    "2. Compute probability of all patterns of each words in allowed word, then entropy, then expected entroy to choose first guess\n",
    "3. Make a heuristic function for next steps\n",
    "4. Iterative steps to guess "
   ]
  },
  {
   "cell_type": "code",
   "execution_count": null,
   "metadata": {},
   "outputs": [],
   "source": [
    "with open('allowed_words.txt','r') as file:\n",
    "    allowed_lst=[]\n",
    "    for i in file:\n",
    "        allowed_lst.append(i[:5])"
   ]
  },
  {
   "cell_type": "code",
   "execution_count": null,
   "metadata": {},
   "outputs": [],
   "source": [
    "# feedback=str(input(\"Enter first pattern: \"))\n",
    "'''Green is 2, Yellow is 1, Gray is 0 ''' \n",
    "def generate_patterns() -> list:\n",
    "    '''Create a possible pattern'''\n",
    "    n=5\n",
    "    pattern=[0 for i in range(n+1)]\n",
    "    res=[]\n",
    "    def Try(k):\n",
    "        for i in range(3):\n",
    "            pattern[k]=i\n",
    "            if k==n:\n",
    "                res.append(\"\".join([str(i) for i in pattern[1:]]))\n",
    "            else:\n",
    "                Try(k+1)\n",
    "    Try(1)\n",
    "    return res\n",
    "    "
   ]
  },
  {
   "cell_type": "code",
   "execution_count": null,
   "metadata": {},
   "outputs": [],
   "source": [
    "def heuristic(word:str,pattern:str,k=0) ->list :\n",
    "    '''Return a list of possible words after guessing and recieve feedback '''\n",
    "    global allowed_lst\n",
    "    green=[]\n",
    "    yellow=[]\n",
    "    gray=[]\n",
    "    for i in range(5):\n",
    "        if pattern[i]==\"2\":\n",
    "           green.append(i)\n",
    "        elif pattern[i]==\"1\":\n",
    "            yellow.append(i)\n",
    "        else:\n",
    "            gray.append(i)\n",
    "\n",
    "    res=[]\n",
    "    for pos_word in allowed_lst:\n",
    "        have=-1\n",
    "        pos_word_lst=[i for i in pos_word]\n",
    "        for i in green:\n",
    "            if word[i] != pos_word[i] :\n",
    "                have=2\n",
    "            else:\n",
    "                pos_word_lst[i]=\"*\"\n",
    "        if have!=-1:\n",
    "            continue\n",
    "        else:\n",
    "            for i in yellow:\n",
    "                if word[i] not in pos_word_lst:\n",
    "                    have=1\n",
    "                else:\n",
    "                    pos_word_lst[i]=\"*\"\n",
    "            if have!=-1:\n",
    "                continue\n",
    "            else:\n",
    "                for i in gray:\n",
    "                    if word[i] in pos_word_lst:\n",
    "                        have=0\n",
    "                if have!=-1:\n",
    "                    continue\n",
    "                else:\n",
    "                    res.append(pos_word)\n",
    "    return res\n",
    "print(heuristic('crane','11100'))\n",
    "                    \n",
    "                    \n",
    "    \n",
    "\n",
    "        "
   ]
  },
  {
   "cell_type": "code",
   "execution_count": 63,
   "metadata": {},
   "outputs": [
    {
     "name": "stdout",
     "output_type": "stream",
     "text": [
      "[0] [2] [1, 3, 4]\n",
      "0.006176175403381456\n",
      "[0] [2] [1, 3, 4]\n",
      "80\n"
     ]
    }
   ],
   "source": [
    "def probability(word: str, pattern: str) -> float:\n",
    "    '''This function return probability of the pattern of the specific word '''\n",
    "    N=len(allowed_lst)\n",
    "    num_of_pos=len(heuristic(word,pattern))\n",
    "    return num_of_pos/N\n",
    "print(probability('weary','20100'))\n",
    "print(len(heuristic('weary','20100')))\n",
    "\n",
    "\n",
    "    "
   ]
  },
  {
   "cell_type": "code",
   "execution_count": null,
   "metadata": {},
   "outputs": [],
   "source": [
    "a=[]\n",
    "print(a[0])"
   ]
  }
 ],
 "metadata": {
  "kernelspec": {
   "display_name": "Python 3.10.4 64-bit",
   "language": "python",
   "name": "python3"
  },
  "language_info": {
   "codemirror_mode": {
    "name": "ipython",
    "version": 3
   },
   "file_extension": ".py",
   "mimetype": "text/x-python",
   "name": "python",
   "nbconvert_exporter": "python",
   "pygments_lexer": "ipython3",
   "version": "3.10.4"
  },
  "orig_nbformat": 4,
  "vscode": {
   "interpreter": {
    "hash": "aee8b7b246df8f9039afb4144a1f6fd8d2ca17a180786b69acc140d282b71a49"
   }
  }
 },
 "nbformat": 4,
 "nbformat_minor": 2
}
